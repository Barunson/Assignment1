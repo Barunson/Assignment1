{
 "cells": [
  {
   "cell_type": "code",
   "execution_count": 27,
   "id": "2349b3a4",
   "metadata": {},
   "outputs": [],
   "source": [
    "import pandas as pd"
   ]
  },
  {
   "cell_type": "markdown",
   "id": "3feb1df8",
   "metadata": {},
   "source": [
    "### Installing beautiful soup package to scrape data from Wikipedia's table of contents"
   ]
  },
  {
   "cell_type": "code",
   "execution_count": 28,
   "id": "5fc1461f",
   "metadata": {},
   "outputs": [
    {
     "name": "stdout",
     "output_type": "stream",
     "text": [
      "Collecting package metadata (current_repodata.json): done\n",
      "Solving environment: done\n",
      "\n",
      "# All requested packages already installed.\n",
      "\n",
      "\n",
      "Note: you may need to restart the kernel to use updated packages.\n"
     ]
    }
   ],
   "source": [
    "conda install -c anaconda beautifulsoup4"
   ]
  },
  {
   "cell_type": "markdown",
   "id": "d84f89c5",
   "metadata": {},
   "source": [
    "### Checking if the library is functional from the package"
   ]
  },
  {
   "cell_type": "code",
   "execution_count": 29,
   "id": "fb91ec15",
   "metadata": {},
   "outputs": [
    {
     "data": {
      "text/plain": [
       "bs4.BeautifulSoup"
      ]
     },
     "execution_count": 29,
     "metadata": {},
     "output_type": "execute_result"
    }
   ],
   "source": [
    "from bs4 import BeautifulSoup\n",
    "BeautifulSoup"
   ]
  },
  {
   "cell_type": "markdown",
   "id": "da2eb6f8",
   "metadata": {},
   "source": [
    "### importing urlopen to declare variable with a web link"
   ]
  },
  {
   "cell_type": "code",
   "execution_count": 30,
   "id": "19f4744f",
   "metadata": {},
   "outputs": [],
   "source": [
    "from urllib.request import urlopen\n",
    "\n",
    "url = 'https://en.wikipedia.org/wiki/List_of_postal_codes_of_Canada:_M'\n",
    "html = urlopen(url)"
   ]
  },
  {
   "cell_type": "markdown",
   "id": "3f894a5e",
   "metadata": {},
   "source": [
    "### applying beautiful soup to the url address "
   ]
  },
  {
   "cell_type": "code",
   "execution_count": 31,
   "id": "1b189225",
   "metadata": {},
   "outputs": [
    {
     "data": {
      "text/plain": [
       "bs4.BeautifulSoup"
      ]
     },
     "execution_count": 31,
     "metadata": {},
     "output_type": "execute_result"
    }
   ],
   "source": [
    "soup = BeautifulSoup(html, features=\"lxml\")\n",
    "type(soup)"
   ]
  },
  {
   "cell_type": "markdown",
   "id": "d2852dcb",
   "metadata": {},
   "source": [
    "### Webscraping contents of the table. Locates the table, and fills the contents by append. There is no need to code without assigned neighborhood, which is not neccessary to include it in the algorithm"
   ]
  },
  {
   "cell_type": "code",
   "execution_count": 32,
   "id": "8e08f81d",
   "metadata": {},
   "outputs": [],
   "source": [
    "table_contents=[]\n",
    "table=soup.find('table')\n",
    "for row in table.findAll('td'):\n",
    "    cell = {}\n",
    "    if row.span.text=='Not assigned':\n",
    "        pass\n",
    "    else:\n",
    "        cell['PostalCode'] = row.p.text[:3]\n",
    "        cell['Borough'] = (row.span.text).split('(')[0]\n",
    "        cell['Neighborhood'] = (((((row.span.text).split('(')[1]).strip(')')).replace(' /',',')).replace(')',' ')).strip(' ')\n",
    "        table_contents.append(cell)\n",
    "\n",
    "# print(table_contents)\n",
    "df=pd.DataFrame(table_contents)\n",
    "df['Borough']=df['Borough'].replace({'Downtown TorontoStn A PO Boxes25 The Esplanade':'Downtown Toronto Stn A',\n",
    "                                             'East TorontoBusiness reply mail Processing Centre969 Eastern':'East Toronto Business',\n",
    "                                             'EtobicokeNorthwest':'Etobicoke Northwest','East YorkEast Toronto':'East York/East Toronto',\n",
    "                                             'MississaugaCanada Post Gateway Processing Centre':'Mississauga'})"
   ]
  },
  {
   "cell_type": "code",
   "execution_count": 34,
   "id": "2f2849a5",
   "metadata": {},
   "outputs": [
    {
     "data": {
      "text/plain": [
       "(103, 3)"
      ]
     },
     "execution_count": 34,
     "metadata": {},
     "output_type": "execute_result"
    }
   ],
   "source": [
    "df.shape"
   ]
  },
  {
   "cell_type": "code",
   "execution_count": null,
   "id": "8b151d52",
   "metadata": {},
   "outputs": [],
   "source": []
  }
 ],
 "metadata": {
  "kernelspec": {
   "display_name": "Python",
   "language": "python",
   "name": "conda-env-python-py"
  },
  "language_info": {
   "codemirror_mode": {
    "name": "ipython",
    "version": 3
   },
   "file_extension": ".py",
   "mimetype": "text/x-python",
   "name": "python",
   "nbconvert_exporter": "python",
   "pygments_lexer": "ipython3",
   "version": "3.6.13"
  }
 },
 "nbformat": 4,
 "nbformat_minor": 5
}
